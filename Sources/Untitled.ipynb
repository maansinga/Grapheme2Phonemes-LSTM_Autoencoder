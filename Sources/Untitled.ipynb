{
 "cells": [
  {
   "cell_type": "code",
   "execution_count": 9,
   "metadata": {},
   "outputs": [],
   "source": [
    "import numpy as np\n",
    "import matplotlib.pyplot as plt\n",
    "\n",
    "\n",
    "def get_data():\n",
    "    # read data from file\n",
    "    data = np.fromfile('sample_data.dat').reshape(419,13)\n",
    "    timesteps = 3\n",
    "    dataX = []\n",
    "    for i in range(len(data) - timesteps - 1):\n",
    "        x = data[i:(i+timesteps), :]\n",
    "        dataX.append(x)\n",
    "    return np.array(dataX)\n",
    "\n",
    "\n",
    "\n",
    "x = get_data()\n",
    "input_dim = x.shape[-1] # 13\n",
    "timesteps = x.shape[1] # 3\n",
    "batch_size = 1"
   ]
  },
  {
   "cell_type": "code",
   "execution_count": 4,
   "metadata": {},
   "outputs": [
    {
     "data": {
      "text/plain": [
       "(13, 3)"
      ]
     },
     "execution_count": 4,
     "metadata": {},
     "output_type": "execute_result"
    }
   ],
   "source": [
    "input_dim, timesteps"
   ]
  },
  {
   "cell_type": "code",
   "execution_count": 5,
   "metadata": {},
   "outputs": [
    {
     "data": {
      "text/plain": [
       "(415, 3, 13)"
      ]
     },
     "execution_count": 5,
     "metadata": {},
     "output_type": "execute_result"
    }
   ],
   "source": [
    "x.shape"
   ]
  },
  {
   "cell_type": "code",
   "execution_count": 12,
   "metadata": {},
   "outputs": [
    {
     "data": {
      "text/plain": [
       "array([[[0.64931299, 0.89654163, 0.27325002, ..., 0.29347826,\n",
       "         0.39893617, 0.2962963 ],\n",
       "        [0.64931299, 0.89654163, 0.27325002, ..., 0.3442029 ,\n",
       "         0.41489362, 0.25925926],\n",
       "        [0.64931299, 0.89654163, 0.27325002, ..., 0.44927536,\n",
       "         0.50531915, 0.27777778]],\n",
       "\n",
       "       [[0.64931299, 0.89654163, 0.27325002, ..., 0.3442029 ,\n",
       "         0.41489362, 0.25925926],\n",
       "        [0.64931299, 0.89654163, 0.27325002, ..., 0.44927536,\n",
       "         0.50531915, 0.27777778],\n",
       "        [0.64931299, 0.89654163, 0.27325002, ..., 0.50724638,\n",
       "         0.64893617, 0.27777778]],\n",
       "\n",
       "       [[0.64931299, 0.89654163, 0.27325002, ..., 0.44927536,\n",
       "         0.50531915, 0.27777778],\n",
       "        [0.64931299, 0.89654163, 0.27325002, ..., 0.50724638,\n",
       "         0.64893617, 0.27777778],\n",
       "        [0.64931299, 0.89654163, 0.27325002, ..., 0.48913043,\n",
       "         0.67553191, 0.2962963 ]],\n",
       "\n",
       "       ...,\n",
       "\n",
       "       [[0.64699262, 0.62628437, 0.18880407, ..., 0.40942029,\n",
       "         0.34042553, 0.33333333],\n",
       "        [0.62593392, 0.62306571, 0.25576938, ..., 0.65942029,\n",
       "         0.42021277, 0.40740741],\n",
       "        [0.49512222, 0.60725285, 0.26351997, ..., 0.48913043,\n",
       "         0.50531915, 0.40740741]],\n",
       "\n",
       "       [[0.62593392, 0.62306571, 0.25576938, ..., 0.65942029,\n",
       "         0.42021277, 0.40740741],\n",
       "        [0.49512222, 0.60725285, 0.26351997, ..., 0.48913043,\n",
       "         0.50531915, 0.40740741],\n",
       "        [0.33314541, 0.57585244, 0.28521046, ..., 0.61956522,\n",
       "         0.46276596, 0.44444444]],\n",
       "\n",
       "       [[0.49512222, 0.60725285, 0.26351997, ..., 0.48913043,\n",
       "         0.50531915, 0.40740741],\n",
       "        [0.33314541, 0.57585244, 0.28521046, ..., 0.61956522,\n",
       "         0.46276596, 0.44444444],\n",
       "        [0.29985499, 0.57162576, 0.35692709, ..., 1.        ,\n",
       "         0.55851064, 0.44444444]]])"
      ]
     },
     "execution_count": 12,
     "metadata": {},
     "output_type": "execute_result"
    }
   ],
   "source": [
    "x"
   ]
  },
  {
   "cell_type": "code",
   "execution_count": 7,
   "metadata": {},
   "outputs": [],
   "source": [
    "import keras\n",
    "from keras import backend as K\n",
    "from keras.models import Sequential, Model\n",
    "from keras.layers import Input, LSTM, RepeatVector\n",
    "from keras.layers.core import Flatten, Dense, Dropout, Lambda\n",
    "from keras.optimizers import SGD, RMSprop, Adam\n",
    "from keras import objectives\n",
    "\n",
    "\n",
    "def create_lstm_vae(input_dim, \n",
    "    timesteps, \n",
    "    batch_size, \n",
    "    intermediate_dim, \n",
    "    latent_dim,\n",
    "    epsilon_std=1.):\n",
    "\n",
    "    \"\"\"\n",
    "    Creates an LSTM Variational Autoencoder (VAE). Returns VAE, Encoder, Generator. \n",
    "    # Arguments\n",
    "        input_dim: int.\n",
    "        timesteps: int, input timestep dimension.\n",
    "        batch_size: int.\n",
    "        intermediate_dim: int, output shape of LSTM. \n",
    "        latent_dim: int, latent z-layer shape. \n",
    "        epsilon_std: float, z-layer sigma.\n",
    "    # References\n",
    "        - [Building Autoencoders in Keras](https://blog.keras.io/building-autoencoders-in-keras.html)\n",
    "        - [Generating sentences from a continuous space](https://arxiv.org/abs/1511.06349)\n",
    "    \"\"\"\n",
    "    x = Input(shape=(timesteps, input_dim,))\n",
    "\n",
    "    # LSTM encoding\n",
    "    h = LSTM(intermediate_dim)(x)\n",
    "\n",
    "    # VAE Z layer\n",
    "    z_mean = Dense(latent_dim)(h)\n",
    "    z_log_sigma = Dense(latent_dim)(h)\n",
    "    \n",
    "    def sampling(args):\n",
    "        z_mean, z_log_sigma = args\n",
    "        epsilon = K.random_normal(shape=(batch_size, latent_dim),\n",
    "                                  mean=0., stddev=epsilon_std)\n",
    "        return z_mean + z_log_sigma * epsilon\n",
    "\n",
    "    # note that \"output_shape\" isn't necessary with the TensorFlow backend\n",
    "    # so you could write `Lambda(sampling)([z_mean, z_log_sigma])`\n",
    "    z = Lambda(sampling, output_shape=(latent_dim,))([z_mean, z_log_sigma])\n",
    "    \n",
    "    # decoded LSTM layer\n",
    "    decoder_h = LSTM(intermediate_dim, return_sequences=True)\n",
    "    decoder_mean = LSTM(input_dim, return_sequences=True)\n",
    "\n",
    "    h_decoded = RepeatVector(timesteps)(z)\n",
    "    h_decoded = decoder_h(h_decoded)\n",
    "\n",
    "    # decoded layer\n",
    "    x_decoded_mean = decoder_mean(h_decoded)\n",
    "    \n",
    "    # end-to-end autoencoder\n",
    "    vae = Model(x, x_decoded_mean)\n",
    "\n",
    "    # encoder, from inputs to latent space\n",
    "    encoder = Model(x, z_mean)\n",
    "\n",
    "    # generator, from latent space to reconstructed inputs\n",
    "    decoder_input = Input(shape=(latent_dim,))\n",
    "\n",
    "    _h_decoded = RepeatVector(timesteps)(decoder_input)\n",
    "    _h_decoded = decoder_h(_h_decoded)\n",
    "\n",
    "    _x_decoded_mean = decoder_mean(_h_decoded)\n",
    "    generator = Model(decoder_input, _x_decoded_mean)\n",
    "    \n",
    "    def vae_loss(x, x_decoded_mean):\n",
    "        xent_loss = objectives.mse(x, x_decoded_mean)\n",
    "        kl_loss = - 0.5 * K.mean(1 + z_log_sigma - K.square(z_mean) - K.exp(z_log_sigma))\n",
    "        loss = xent_loss + kl_loss\n",
    "        return loss\n",
    "\n",
    "    vae.compile(optimizer='rmsprop', loss=vae_loss)\n",
    "    \n",
    "    return vae, encoder, generator"
   ]
  },
  {
   "cell_type": "code",
   "execution_count": 11,
   "metadata": {},
   "outputs": [
    {
     "name": "stdout",
     "output_type": "stream",
     "text": [
      "Epoch 1/20\n",
      "415/415 [==============================] - 3s 7ms/step - loss: 0.1947\n",
      "Epoch 2/20\n",
      "415/415 [==============================] - 0s 187us/step - loss: 0.1239\n",
      "Epoch 3/20\n",
      "415/415 [==============================] - 0s 183us/step - loss: 0.0929\n",
      "Epoch 4/20\n",
      "415/415 [==============================] - 0s 171us/step - loss: 0.0766\n",
      "Epoch 5/20\n",
      "415/415 [==============================] - 0s 178us/step - loss: 0.0648\n",
      "Epoch 6/20\n",
      "415/415 [==============================] - 0s 199us/step - loss: 0.0548\n",
      "Epoch 7/20\n",
      "415/415 [==============================] - 0s 168us/step - loss: 0.0477\n",
      "Epoch 8/20\n",
      "415/415 [==============================] - 0s 190us/step - loss: 0.0417\n",
      "Epoch 9/20\n",
      "415/415 [==============================] - 0s 204us/step - loss: 0.0368\n",
      "Epoch 10/20\n",
      "415/415 [==============================] - 0s 180us/step - loss: 0.0330\n",
      "Epoch 11/20\n",
      "415/415 [==============================] - 0s 185us/step - loss: 0.0296\n",
      "Epoch 12/20\n",
      "415/415 [==============================] - 0s 195us/step - loss: 0.0276\n",
      "Epoch 13/20\n",
      "415/415 [==============================] - 0s 197us/step - loss: 0.0250\n",
      "Epoch 14/20\n",
      "415/415 [==============================] - 0s 190us/step - loss: 0.0234\n",
      "Epoch 15/20\n",
      "415/415 [==============================] - 0s 187us/step - loss: 0.0220\n",
      "Epoch 16/20\n",
      "415/415 [==============================] - 0s 175us/step - loss: 0.0202\n",
      "Epoch 17/20\n",
      "415/415 [==============================] - 0s 180us/step - loss: 0.0192\n",
      "Epoch 18/20\n",
      "415/415 [==============================] - 0s 175us/step - loss: 0.0181\n",
      "Epoch 19/20\n",
      "415/415 [==============================] - 0s 175us/step - loss: 0.0170\n",
      "Epoch 20/20\n",
      "415/415 [==============================] - 0s 178us/step - loss: 0.0162\n",
      "[plotting...]\n",
      "x: (415, 3, 13), preds: (415, 3, 13)\n"
     ]
    },
    {
     "data": {
      "image/png": "[encoded data removed]",
      "text/plain": [
       "<Figure size 432x288 with 1 Axes>"
      ]
     },
     "metadata": {},
     "output_type": "display_data"
    }
   ],
   "source": [
    "import tensorflow as tf\n",
    "\n",
    "with tf.device(\"CPU:0\"):\n",
    "    vae, enc, gen = create_lstm_vae(input_dim, \n",
    "        timesteps=timesteps, \n",
    "        batch_size=batch_size, \n",
    "        intermediate_dim=32,\n",
    "        latent_dim=100,\n",
    "        epsilon_std=1.)\n",
    "\n",
    "    vae.fit(x, x, epochs=20)\n",
    "\n",
    "    preds = vae.predict(x, batch_size=batch_size)\n",
    "\n",
    "    # pick a column to plot.\n",
    "    print(\"[plotting...]\")\n",
    "    print(\"x: %s, preds: %s\" % (x.shape, preds.shape))\n",
    "    plt.plot(x[:,0,3], label='data')\n",
    "    plt.plot(preds[:,0,3], label='predict')\n",
    "    plt.legend()\n",
    "    plt.show()\n"
   ]
  },
  {
   "cell_type": "code",
   "execution_count": null,
   "metadata": {},
   "outputs": [],
   "source": []
  }
 ],
 "metadata": {
  "kernelspec": {
   "display_name": "Python 3",
   "language": "python",
   "name": "python3"
  },
  "language_info": {
   "codemirror_mode": {
    "name": "ipython",
    "version": 3
   },
   "file_extension": ".py",
   "mimetype": "text/x-python",
   "name": "python",
   "nbconvert_exporter": "python",
   "pygments_lexer": "ipython3",
   "version": "3.6.6rc1"
  }
 },
 "nbformat": 4,
 "nbformat_minor": 2
}
