{
 "cells": [
  {
   "cell_type": "markdown",
   "metadata": {},
   "source": [
    "# Building Train/Test Data\n",
    "\n",
    "We are only picking verbs, adverbs, adjectives, conjunctions and prepositions into the test data. The reason is that, nouns are often times more complicated and irregular due to the source language influence. Though a part of project, I'd like to leave that off to the last or not include it."
   ]
  },
  {
   "cell_type": "code",
   "execution_count": 1,
   "metadata": {},
   "outputs": [],
   "source": [
    "import re\n",
    "import numpy as np\n",
    "import nltk\n",
    "from nltk.corpus import cmudict\n",
    "from nltk.corpus import wordnet as wn"
   ]
  },
  {
   "cell_type": "code",
   "execution_count": 2,
   "metadata": {},
   "outputs": [],
   "source": [
    "dict = cmudict.dict()"
   ]
  },
  {
   "cell_type": "markdown",
   "metadata": {},
   "source": [
    "*The words* needs to be of single pronunciation only and should have no numbers or symbols. We are keeping things as simple as possible."
   ]
  },
  {
   "cell_type": "code",
   "execution_count": 3,
   "metadata": {},
   "outputs": [],
   "source": [
    "interest_words = []\n",
    "\n",
    "for everyword in dict.keys():\n",
    "    if ('-' not in everyword) and ('\\'' not in everyword) and ('_' not in everyword):\n",
    "        s = set([syn.pos() for syn in wn.synsets(everyword)])\n",
    "        if ('v' in s or 'a' in s or 'r' in s or 's' in s or 'p' in s) and len(dict.get(everyword))==1:\n",
    "            interest_words.append((everyword, '.'.join([''.join([a for a in k if not a.isdigit()]) for k in dict.get(everyword)[0]])))\n",
    "        "
   ]
  },
  {
   "cell_type": "markdown",
   "metadata": {},
   "source": [
    "*Total number of words*"
   ]
  },
  {
   "cell_type": "code",
   "execution_count": 4,
   "metadata": {},
   "outputs": [
    {
     "data": {
      "text/plain": [
       "24169"
      ]
     },
     "execution_count": 4,
     "metadata": {},
     "output_type": "execute_result"
    }
   ],
   "source": [
    "len(interest_words)"
   ]
  },
  {
   "cell_type": "code",
   "execution_count": 5,
   "metadata": {},
   "outputs": [
    {
     "data": {
      "text/plain": [
       "[('abandon', 'AH.B.AE.N.D.AH.N'),\n",
       " ('abandoned', 'AH.B.AE.N.D.AH.N.D'),\n",
       " ('abandoning', 'AH.B.AE.N.D.AH.N.IH.NG'),\n",
       " ('abandons', 'AH.B.AE.N.D.AH.N.Z'),\n",
       " ('abash', 'AH.B.AE.SH'),\n",
       " ('abashed', 'AH.B.AE.SH.T'),\n",
       " ('abate', 'AH.B.EY.T'),\n",
       " ('abated', 'AH.B.EY.T.IH.D'),\n",
       " ('abates', 'AH.B.EY.T.S'),\n",
       " ('abating', 'AH.B.EY.T.IH.NG'),\n",
       " ('abbreviate', 'AH.B.R.IY.V.IY.EY.T'),\n",
       " ('abbreviates', 'AH.B.R.IY.V.IY.EY.T.S'),\n",
       " ('abbreviating', 'AH.B.R.IY.V.IY.EY.T.IH.NG'),\n",
       " ('abdicate', 'AE.B.D.AH.K.EY.T'),\n",
       " ('abdicated', 'AE.B.D.AH.K.EY.T.AH.D'),\n",
       " ('abdicates', 'AE.B.D.AH.K.EY.T.S'),\n",
       " ('abdicating', 'AE.B.D.IH.K.EY.T.IH.NG'),\n",
       " ('abduct', 'AE.B.D.AH.K.T'),\n",
       " ('abducts', 'AE.B.D.AH.K.T.S')]"
      ]
     },
     "execution_count": 5,
     "metadata": {},
     "output_type": "execute_result"
    }
   ],
   "source": [
    "interest_words[1:20]"
   ]
  },
  {
   "cell_type": "code",
   "execution_count": 6,
   "metadata": {},
   "outputs": [],
   "source": [
    "with open('words.txt', 'w') as fi:\n",
    "    for k in interest_words:\n",
    "        fi.write('{0} {1}\\n'.format(k[0], k[1]))"
   ]
  },
  {
   "cell_type": "markdown",
   "metadata": {},
   "source": [
    "The data will now look like as follows\n",
    "\n",
    "`...\n",
    "enhances EH.N.HH.AE.N.S.IH.Z\n",
    "enhancing EH.N.HH.AE.N.S.IH.NG\n",
    "enigmatic EH.N.IH.G.M.AE.T.IH.K\n",
    "enjoined EH.N.JH.OY.N.D\n",
    "...`"
   ]
  }
 ],
 "metadata": {
  "kernelspec": {
   "display_name": "Python 3",
   "language": "python",
   "name": "python3"
  },
  "language_info": {
   "codemirror_mode": {
    "name": "ipython",
    "version": 3
   },
   "file_extension": ".py",
   "mimetype": "text/x-python",
   "name": "python",
   "nbconvert_exporter": "python",
   "pygments_lexer": "ipython3",
   "version": "3.6.6rc1"
  }
 },
 "nbformat": 4,
 "nbformat_minor": 2
}
